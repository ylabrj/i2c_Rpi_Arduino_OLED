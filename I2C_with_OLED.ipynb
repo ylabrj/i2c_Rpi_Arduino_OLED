{
 "cells": [
  {
   "cell_type": "markdown",
   "metadata": {},
   "source": [
    "# Raspberry Pi with I2C, Arduino and OLED display\n",
    "\n",
    "__Objective:__ Run Raspberry Pi (RPi) with two different Arduino boards and an OLED display, all communicating on the same two-wire I2C bus.\n",
    "\n",
    "## What is i2c and why?\n",
    "\n",
    "[i2c is a relatively simple two-wire bus designed by Philips](https://en.wikipedia.org/wiki/I%C2%B2C) to interconnect mutiple microprocessors and components. \n",
    "\n",
    "> i2c terminology uses terms _master_ and _slave_. In deference to the [terminology controversy that pulled Guido out of his benevolent-dictator-for-life retirement](https://www.theregister.co.uk/2018/09/11/python_purges_master_and_slave_in_political_pogrom/), I will use the terms _primary_ and _secondary_.\n",
    "\n",
    "It's supported on Arduino and on many other devices like displays.\n",
    "\n",
    "This experiment will have four devices interconnected using two wires form each device going to what is normally used as a power bus on the breadboard.\n",
    "\n",
    "This is a big advantage over other connection types:\n",
    "\n",
    "*  serial: requires a dedicated connection. And we only have one serial port on each Arduino.\n",
    "*  direct connection: a standard digital display require more than 10 wires.\n",
    "\n",
    "## Voltage levels caution: Arduino (5V) and Raspberry Pi (3.3V)\n",
    "\n",
    "According to the specs, i2c runs at 5V. \n",
    "\n",
    "If you plug in a 5V output from an Arduino to a 3.3V input on a RPi, you will probably damage your Rpi. __*But that's only if the Arduino pin is pushing 5V.*\n",
    "\n",
    "The reality of most 5V digital electronics is that it doesn't take a full 5V for a pin to register as HIGH (or logical 1). An Arduino will accept far less that 5V as a HIGH signal.\n",
    "\n",
    "On an I2C bus, either the primary or  a separate power source holds one of the two wires at the HIGH level. Flipping the signal to LOW (logical 0) is done by the primary or any secondary device \"pulling\" the level down to ground. \n",
    "\n",
    "> Note that this isn't a short circuit, because whatever device is providing the HIGH signal has a _pull_up resistor_. It's there to limit the current flow. It's usually a high value - 10K ohms is not unusual. We don't need a lot of current since we're only delivering a signal, not powering something.\n",
    "\n",
    "Arduino and RPi pins both have built-in, optionally-enabled pull-up resistors.\n",
    "\n",
    "If we have the RPi as master and the Arduino properly configured as secondaries, only the Rpi will be providing the pull-up-voltage - in this case, 3.3V. The i2c display also accepts 3.3V.\n",
    "\n",
    "> There's a great [tutorial here on pull-up resistors](https://en.wikipedia.org/wiki/I%C2%B2C).\n",
    "\n",
    "But what if we make a mistake on our Arduino setup? Maybe we decide to test an Arduino i2c connection to the display with a sketch that makes the Arduino primary. If we forget to disconnect RPi from the i2c bus, it could be damaged. \n",
    "\n",
    "Since I'm doing a lot of experimenting and I prefer not to keep wiring and unwiring things, I've configured everything with a *level controller* that handles connection of 3.3V to 5V pins.\n",
    "\n",
    "## The equipment\n",
    "\n",
    "Equipment used for the development:\n",
    "\n",
    "*  i2c primary: Rapberry Pi Model B V2.1\n",
    "    *  Raspbian GNUL/Linux 9.8 (Raspbian 4.14) \"stretch\"\n",
    "    *  You can check your release with commands:"
   ]
  },
  {
   "cell_type": "code",
   "execution_count": 2,
   "metadata": {
    "collapsed": false
   },
   "outputs": [
    {
     "name": "stdout",
     "output_type": "stream",
     "text": [
      "PRETTY_NAME=\"Raspbian GNU/Linux 9 (stretch)\"\n",
      "NAME=\"Raspbian GNU/Linux\"\n",
      "VERSION_ID=\"9\"\n",
      "VERSION=\"9 (stretch)\"\n",
      "ID=raspbian\n",
      "ID_LIKE=debian\n",
      "HOME_URL=\"http://www.raspbian.org/\"\n",
      "SUPPORT_URL=\"http://www.raspbian.org/RaspbianForums\"\n",
      "BUG_REPORT_URL=\"http://www.raspbian.org/RaspbianBugs\"\n"
     ]
    }
   ],
   "source": [
    "%%sh\n",
    "# To get Raspbian code name:\n",
    "cat /etc/os-release"
   ]
  },
  {
   "cell_type": "markdown",
   "metadata": {},
   "source": [
    "*  'Cobbler' board to attach GPIO pins to breadboard\n",
    "*  i2c secondary: Arduino Uno\n",
    "*  i2c secondary: Arduino Micro\n",
    "*  DSD TECH OLED IIC Display, SSD1306 chip, 0.91\", 128x32 pixels\n",
    "*  Level converter, 4 channel.\n",
    "*  Python 3\n",
    "\n",
    "\n",
    "All the example code can be run from whatever Python editor or IDE you want to use on Raspberry Pi, and from the Arduino IDE.\n",
    "\n",
    "For this development, I ran everything in Jupyter Notebook with the jam magics to manage the Arduino code.\n",
    "\n",
    "\n"
   ]
  },
  {
   "cell_type": "markdown",
   "metadata": {},
   "source": [
    "## RPi: Configuring and Testing the I2C bus\n",
    "\n",
    "### Step 1: Enable i2c communication on the Raspberry Pi\n",
    "\n",
    "These instructions work with the Jessie release of Raspbian. If you have an older release, you may need to edit some configuration files... and maybe you should consider upgrading your RPi software!\n",
    "\n",
    "If you can run the *sudo raspi-config* command below, you're on a current-enough version.\n",
    "\n",
    "[Adafruit has an excellent tutorial on the subject](https://learn.adafruit.com/adafruits-raspberry-pi-lesson-4-gpio-setup/configuring-i2c). These are the key commands to run: \n",
    "*  Load the required Python libraries\n",
    "    *  *sudo apt-get install -y python-smbus*\n",
    "    *  *sudo apt-get install -y i2c-tools*\n",
    "*  Enable i2c communication in the kernel\n",
    "    *  *sudo raspi-config*\n",
    "        * Interfacing Options -> I2C Enable..."
   ]
  },
  {
   "cell_type": "markdown",
   "metadata": {},
   "source": [
    "On an i2c device is hooked up to the bus, should be able to see it with the *i2cdetect* tool.\n",
    "\n",
    "Each i2c device should have it's own distinct two hexadecimal digit address. On the Arduino, we will configure that in our software.\n",
    "\n",
    "The SSD1306 and related displays are typically hard-coded to address 0x3C. \n",
    "\n",
    "When it's hooked up, we can run the *i2cdetect*  tool to see if it's on the bus.\n",
    "\n",
    "In the example below, the *%%sh* allows us to run the code directly from our Jupyter notebook. From a terminal windows or other command line, ignore the *%%sh*."
   ]
  },
  {
   "cell_type": "code",
   "execution_count": 10,
   "metadata": {
    "collapsed": false
   },
   "outputs": [
    {
     "name": "stdout",
     "output_type": "stream",
     "text": [
      "     0  1  2  3  4  5  6  7  8  9  a  b  c  d  e  f\n",
      "00:          -- -- -- -- -- -- -- -- -- -- -- -- -- \n",
      "10: -- -- -- -- -- -- -- -- -- -- -- -- -- -- -- -- \n",
      "20: -- -- -- -- -- -- -- -- -- -- -- -- -- -- -- -- \n",
      "30: -- -- -- -- -- -- -- -- -- -- -- -- 3c -- -- -- \n",
      "40: -- -- -- -- -- -- -- -- -- -- -- -- -- -- -- -- \n",
      "50: -- -- -- -- -- -- -- -- -- -- -- -- -- -- -- -- \n",
      "60: -- -- -- -- -- -- -- -- -- -- -- -- -- -- -- -- \n",
      "70: -- -- -- -- -- -- -- --                         \n"
     ]
    }
   ],
   "source": [
    "%%sh\n",
    "i2cdetect -y 1"
   ]
  },
  {
   "cell_type": "markdown",
   "metadata": {
    "collapsed": false
   },
   "source": [
    "## Setting up and testing the display\n",
    "\n",
    "Our display is 128 pixels wide (columns) by 32 high (rows). It's a bitmap. To send characters to the display, we need to draw out all the bits to represent each character.\n",
    "\n",
    "Fortunately, there are code libraries to do that for us.\n",
    "\n",
    "There are a some different options. We'll start with the Adafruit library. Adafruit makes a lot of gizmos for Arduino and RPi development. Buy their stuff so they can continue funding the development of these great libraries.\n",
    "\n",
    "The Adafruit library is handling the communication with the display board. The demos require the Python Imaging Library (PIL) to draw shapes and stuff.\n",
    "\n",
    "[This Woolsey Workshop tutorial tells you in detail how to install the libraries](https://www.woolseyworkshop.com/2018/08/17/interfacing-an-ssd1306-display-module-to-a-raspberry-pi/). The key commands are:\n",
    "\n",
    "*  *git clone https://github.com/adafruit/Adafruit_Python_SSD1306.git*\n",
    "*  *cd Adafruit_Python_SSD1306*\n",
    "*  *sudo python setup.py install*\n",
    "\n",
    "That page shows you how to run some examples from the Adafruit library, and has an excellent sample piece of code to write a couple of lines of text to the display. The code has a copyright, so we won't copy it here.\n",
    "\n",
    "## Something useful: displaying the IP address\n",
    "\n",
    "I like running my Raspberry Pi headless (no keyboard, mouse or monitor),  controlling it from my laptop. Not running X-Windows, browsers and other programs lets it run a lot faster.\n",
    "\n",
    "But I need to know its network address. It's relatively easy to find out if it's on an Ethernet. On wifi, it's more difficult.\n",
    "\n",
    "So why not have Rpi display it's address on the display whenever it boots up?\n",
    "\n",
    "To do that, we'll need the *psutil* library.\n"
   ]
  },
  {
   "cell_type": "code",
   "execution_count": null,
   "metadata": {
    "collapsed": true
   },
   "outputs": [],
   "source": [
    "%%sh\n",
    "sudo pip3 install psutil"
   ]
  },
  {
   "cell_type": "code",
   "execution_count": null,
   "metadata": {
    "collapsed": true
   },
   "outputs": [],
   "source": [
    "# %load /home/pi/cron/displayIP.py\n",
    "#!/usr/bin/python3\n",
    "\n",
    "# Library to get at IP address for each network adapter\n",
    "import psutil\n",
    "# GPIO library. Required for the GPIO pins that provide the i2c interfae\n",
    "import RPi.GPIO as GPIO\n",
    "# Library to handle the display\n",
    "import Adafruit_SSD1306\n",
    "# Library for creating the bitmap of what will be on the display\n",
    "from PIL import Image, ImageDraw, ImageFont\n",
    "\n",
    "########################\n",
    "# Get the IP addresses\n",
    "########################\n",
    "# If we have wifi, there will be three IP addresses:\n",
    "# - the internal loopback address, (lo) which we don't care about\n",
    "# - the Ethernet address on eth0\n",
    "# - the wifi address on wlan0\n",
    "\n",
    "# Get all the addresses . It returns a dictionary where the port (lo, eth0, wlan0) is the key\n",
    "addrs = psutil.net_if_addrs()\n",
    "# We're building one big string to handle all of them\n",
    "addr_string = ''\n",
    "for ikey in addrs.keys():\n",
    "    if ikey != 'lo':\n",
    "            addr_string = addr_string + ikey + ' ' + addrs[ikey][0].address + '\\n'\n",
    "\n",
    "############################\n",
    "# Display the IP address\n",
    "###########################\n",
    "# Set up the display. Older displays had a reset pin; most of the new ones don't.  \n",
    "# So we specify rst=None\n",
    "display = Adafruit_SSD1306.SSD1306_128_32(rst=None)\n",
    "# Open it, clear the buffer, and display clear screen\n",
    "display.begin()\n",
    "display.clear()\n",
    "display.display()\n",
    "\n",
    "# Create the image buffer by retrieving the display size from the display.\n",
    "buffer = Image.new('1',(display.width, display.height))\n",
    "bitmap = ImageDraw.Draw(buffer)\n",
    "# Get the default font\n",
    "default_font = ImageFont.load_default()\n",
    "\n",
    "# display.clear()\n",
    "# Create the bitmap from our string that holds the address text\n",
    "\n",
    "bitmap.text((0,0),addr_string,font = default_font, fill = 255)\n",
    "# Set the bitmap to the image and display it.\n",
    "display.image(buffer)\n",
    "display.display()\n",
    "\n",
    "# Close up all the ports before ending the program\n",
    "GPIO.cleanup()\n"
   ]
  },
  {
   "cell_type": "markdown",
   "metadata": {
    "collapsed": true
   },
   "source": [
    "To make this really useful, we set it up to start at boot and display the IP address.\n",
    "\n",
    "There are [several diffent ways to set up a program to start at boot time](https://www.dexterindustries.com/howto/run-a-program-on-your-raspberry-pi-at-startup/). We'll use the quick and dirty cron method.\n",
    "\n",
    "We simply need to add a line to the end of the crontab file:\n",
    "\n",
    "> *crontab -e*\n",
    "\n",
    "and add the following line:\n",
    "\n",
    "> *@reboot sleep 30 && sudo /home/pi/cron/displayIP.py*\n",
    "\n",
    "*  *@reboot* tells cron to run this every time the system boot\n",
    "*  *sleep 30* is required because it can take some time to acquire a wifi IP address\n",
    "*  *&&* allows us to run two separate commands from the same line\n",
    "*  Our command requires the fully qualified path\n",
    "\n",
    "Our command works because:\n",
    "\n",
    "*  The first line specifies the shell to run */usr/bin/python3*\n",
    "*  We made the program executable by entering\n",
    "\n",
    "> *chmod +x /home/pi/cron/displayIP.py*\n",
    "\n",
    "Alternatively, we could specify the command as:\n",
    "\n",
    "> *sudo /usr/bin/python3 displayIP.py*\n",
    "\n"
   ]
  },
  {
   "cell_type": "markdown",
   "metadata": {},
   "source": [
    "## Alternative SSD1603 library: lumacore\n",
    "\n",
    "Another well-documented library for SSD1603 is [lumacore](https://github.com/rm-hull/luma.oled). Documentation and examples [here](https://luma-oled.readthedocs.io/).\n",
    "\n",
    "Here's a good [tutorial](http://codelectron.com/setup-oled-display-raspberry-pi-python/).\n",
    "\n",
    "It has its own rendering library and the code can be a little simpler.\n",
    "\n",
    "Here's an example."
   ]
  },
  {
   "cell_type": "code",
   "execution_count": 7,
   "metadata": {
    "collapsed": true
   },
   "outputs": [],
   "source": [
    "from luma.core.interface.serial import i2c, spi\n",
    "from luma.core.render import canvas\n",
    "from luma.oled.device import ssd1306\n",
    "\n",
    "serial=i2c(port=1, address=0x3c)\n",
    "\n",
    "device = ssd1306(serial)\n",
    "canvas(device)\n",
    "\n",
    "with canvas(device) as draw:\n",
    "    draw.rectangle(device.bounding_box, outline = 'white', fill='black')\n",
    "    draw.text((0,10),\"Hello World\",fill='white')"
   ]
  },
  {
   "cell_type": "markdown",
   "metadata": {},
   "source": [
    "### And finally... more documentation on text positioning and the OLED\n",
    "\n",
    "The [u8glib for Arduino documentation](https://github.com/olikraus/u8glib/wiki/userreference#firstpage) has a lot of excellent info on layout and text handling in the OLED library. Check out the graphics for the *getFontAscent* and *getFontDescent* pages."
   ]
  },
  {
   "cell_type": "code",
   "execution_count": null,
   "metadata": {
    "collapsed": true
   },
   "outputs": [],
   "source": []
  }
 ],
 "metadata": {
  "kernelspec": {
   "display_name": "Python 3",
   "language": "python",
   "name": "python3"
  },
  "language_info": {
   "codemirror_mode": {
    "name": "ipython",
    "version": 3
   },
   "file_extension": ".py",
   "mimetype": "text/x-python",
   "name": "python",
   "nbconvert_exporter": "python",
   "pygments_lexer": "ipython3",
   "version": "3.5.3"
  }
 },
 "nbformat": 4,
 "nbformat_minor": 2
}
